{
 "cells": [
  {
   "cell_type": "markdown",
   "metadata": {},
   "source": [
    "# Question 3 (difference equations)\n",
    "\n",
    "- Find the general solution of the difference equation\n",
    "\n",
    "$$\n",
    "a_{n+1} = a_n + 2a_{n−1} − 2a_{n−2}.\n",
    "$$\n",
    "\n",
    "- Find the particular solution which satisfies the condition $a_0 = a_1 = 0$, $a_2 = 1$.\n",
    "\n",
    "- Using this solution and Python, evaluate $a_3, \\dots, a_{20}$. \n",
    "\n",
    "- Verify that the values agree with those obtained by repeated use of the difference equation, starting from the specified values of $a_0, a_1$, and $a_2$.\n",
    "\n",
    "\n",
    "\n",
    "**Python hints**  \n",
    "Python allows us to easily evaluate the solution at multiple values of $n$. In this case, we are interested in 20 integers starting from zero, so we start by creating a range of these values as follows: "
   ]
  },
  {
   "cell_type": "code",
   "execution_count": 1,
   "metadata": {
    "collapsed": false
   },
   "outputs": [],
   "source": [
    "n = range(20) "
   ]
  },
  {
   "cell_type": "markdown",
   "metadata": {},
   "source": [
    "Extend this to build a vector containing the solution at each value of n. \n",
    "\n",
    "To raise `np.sqrt(2)` by the power of each value of `n` in the list, we can do:"
   ]
  },
  {
   "cell_type": "code",
   "execution_count": 2,
   "metadata": {
    "collapsed": false
   },
   "outputs": [
    {
     "data": {
      "text/plain": [
       "array([   1.        ,    1.41421356,    2.        ,    2.82842712,\n",
       "          4.        ,    5.65685425,    8.        ,   11.3137085 ,\n",
       "         16.        ,   22.627417  ,   32.        ,   45.254834  ,\n",
       "         64.        ,   90.50966799,  128.        ,  181.01933598,\n",
       "        256.        ,  362.03867197,  512.        ,  724.07734394])"
      ]
     },
     "execution_count": 2,
     "metadata": {},
     "output_type": "execute_result"
    }
   ],
   "source": [
    "import numpy as np\n",
    "np.power(np.sqrt(2), n)"
   ]
  },
  {
   "cell_type": "markdown",
   "metadata": {},
   "source": [
    "Alternatively, from the difference equation and starting with `a = [0, 0, 1]`, we can append the next value to `a` as follows:\n",
    "\n",
    "    a.append(a[n - 1] + 2*a[n - 2] - 2*a[n - 3])\n",
    "\n",
    "All we need to do is put this line of code inside a for loop that interates $n$ from 3 to 20. You should find that you get the same sequence either way. For very large $n$ though one of the methods is affected by small numerical rounding errors. Why?"
   ]
  },
  {
   "cell_type": "markdown",
   "metadata": {},
   "source": [
    "## Solution"
   ]
  },
  {
   "cell_type": "markdown",
   "metadata": {},
   "source": [
    "First, we import the required packages, `numpy` and `matplotlib` and use the magic command for inline plotting."
   ]
  },
  {
   "cell_type": "code",
   "execution_count": 3,
   "metadata": {
    "collapsed": false
   },
   "outputs": [],
   "source": [
    "# Import numpy and matplotlib\n",
    "import numpy as np\n",
    "import matplotlib.pyplot as plt\n",
    "%matplotlib inline"
   ]
  },
  {
   "cell_type": "markdown",
   "metadata": {},
   "source": [
    "The general solution can be achieved by using the trial solution $a_n = \\lambda^n$. Substitute this into the original linear difference equation we achieve:\n",
    "\n",
    "$$\n",
    "\\lambda = 1, \\quad \\lambda = \\pm \\sqrt{2}\n",
    "$$\n",
    "\n",
    "By using the initial condition of, we achieve at the exact solution:\n",
    "\n",
    "$$\n",
    "a_n = -1 + \\dfrac{\\sqrt{2} + 1}{2 \\sqrt{2}}\\big( \\sqrt{2} \\big)^n + \\dfrac{\\sqrt{2} - 1}{2 \\sqrt{2}} \\big(-\\sqrt{2} \\big)^n\n",
    "$$\n",
    "\n",
    "We now compute $a_n$ at a number of points:"
   ]
  },
  {
   "cell_type": "code",
   "execution_count": 4,
   "metadata": {
    "collapsed": false
   },
   "outputs": [],
   "source": [
    "# Generate an array of N integers\n",
    "N = range(10)\n",
    "\n",
    "# Calculate a_n for each n\n",
    "sqrt2 = np.sqrt(2)\n",
    "a_analytic = -1 + ((sqrt2 + 1)/(2*sqrt2))*np.power(sqrt2, N) + ((sqrt2 - 1)/(2*sqrt2))*np.power(-sqrt2, N)"
   ]
  },
  {
   "cell_type": "markdown",
   "metadata": {},
   "source": [
    "We then compare with the numerical results obtained by appending the next result of $a_{n+1}$ calculated directly from the linear difference equation"
   ]
  },
  {
   "cell_type": "code",
   "execution_count": 5,
   "metadata": {
    "collapsed": false
   },
   "outputs": [],
   "source": [
    "# Starting values\n",
    "a_num = [0, 0, 1]\n",
    "\n",
    "# Obtain the result from numerical loop\n",
    "for n in range(3, len(N)):\n",
    "    a_num.append(a_num[n - 1] + 2*a_num[n - 2] - 2*a_num[n - 3])"
   ]
  },
  {
   "cell_type": "markdown",
   "metadata": {},
   "source": [
    "The two results are plotted to compare."
   ]
  },
  {
   "cell_type": "code",
   "execution_count": 6,
   "metadata": {
    "collapsed": false
   },
   "outputs": [
    {
     "data": {
      "image/png": "[encoded data removed]",
      "text/plain": [
       "<matplotlib.figure.Figure at 0x10dcebf60>"
      ]
     },
     "metadata": {},
     "output_type": "display_data"
    }
   ],
   "source": [
    "# Plot these graphs\n",
    "plt.plot(N, a_num, label='Numerical result')\n",
    "plt.plot(N, a_analytic, label='Analytical result')\n",
    "plt.legend(loc=2)\n",
    "plt.xlabel('$n$')\n",
    "plt.ylabel('$a_n$');"
   ]
  },
  {
   "cell_type": "code",
   "execution_count": 7,
   "metadata": {
    "collapsed": false
   },
   "outputs": [
    {
     "name": "stdout",
     "output_type": "stream",
     "text": [
      "n = 0, Analytic = -0.000000, Numerical = 0.000000\n",
      "n = 1, Analytic = -0.000000, Numerical = 0.000000\n",
      "n = 2, Analytic = 1.000000, Numerical = 1.000000\n",
      "n = 3, Analytic = 1.000000, Numerical = 1.000000\n",
      "n = 4, Analytic = 3.000000, Numerical = 3.000000\n",
      "n = 5, Analytic = 3.000000, Numerical = 3.000000\n",
      "n = 6, Analytic = 7.000000, Numerical = 7.000000\n",
      "n = 7, Analytic = 7.000000, Numerical = 7.000000\n",
      "n = 8, Analytic = 15.000000, Numerical = 15.000000\n",
      "n = 9, Analytic = 15.000000, Numerical = 15.000000\n"
     ]
    }
   ],
   "source": [
    "# Print out the results\n",
    "for i in range(len(N)):\n",
    "    print(\"n = %d, Analytic = %f, Numerical = %f\" % (i, a_analytic[i], a_num[i]))"
   ]
  },
  {
   "cell_type": "markdown",
   "metadata": {},
   "source": [
    "This shows the results are the same."
   ]
  }
 ],
 "metadata": {
  "kernelspec": {
   "display_name": "Python 3",
   "language": "python",
   "name": "python3"
  },
  "language_info": {
   "codemirror_mode": {
    "name": "ipython",
    "version": 3
   },
   "file_extension": ".py",
   "mimetype": "text/x-python",
   "name": "python",
   "nbconvert_exporter": "python",
   "pygments_lexer": "ipython3",
   "version": "3.5.2"
  }
 },
 "nbformat": 4,
 "nbformat_minor": 0
}

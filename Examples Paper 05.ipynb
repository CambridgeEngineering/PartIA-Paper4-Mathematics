{
 "cells": [
  {
   "cell_type": "markdown",
   "metadata": {},
   "source": [
    "# Question 3 (difference equations)\n",
    "\n",
    "- Find the general solution of the difference equation\n",
    "\n",
    "$$\n",
    "a_{n+1} = a_n + 2a_{n−1} − 2a_{n−2}.\n",
    "$$\n",
    "\n",
    "- Find the particular solution which satisfies the condition $a_0 = a_1 = 0$, $a_2 = 1$.\n",
    "\n",
    "- Using this solution and Python, evaluate $a_3, \\dots, a_{20}$. \n",
    "\n",
    "- Verify that the values agree with those obtained by repeated use of the difference equation, starting from the specified values of $a_0, a_1$, and $a_2$.\n",
    "\n",
    "\n",
    "\n",
    "**Python hints**  \n",
    "NumPy allows us to easily evaluate the solution at multiple values of $n$. In this case, we are interested in 20 integers starting from zero, so we start by creating a range of these values as follows: "
   ]
  },
  {
   "cell_type": "code",
   "execution_count": 1,
   "metadata": {
    "collapsed": false
   },
   "outputs": [],
   "source": [
    "import numpy as np\n",
    "n = np.arange(20) "
   ]
  },
  {
   "cell_type": "markdown",
   "metadata": {},
   "source": [
    "Raising `np.sqrt(2)` by the power of each value of `n` in the list:"
   ]
  },
  {
   "cell_type": "code",
   "execution_count": 2,
   "metadata": {
    "collapsed": false
   },
   "outputs": [
    {
     "data": {
      "text/plain": [
       "array([   1.        ,    1.41421356,    2.        ,    2.82842712,\n",
       "          4.        ,    5.65685425,    8.        ,   11.3137085 ,\n",
       "         16.        ,   22.627417  ,   32.        ,   45.254834  ,\n",
       "         64.        ,   90.50966799,  128.        ,  181.01933598,\n",
       "        256.        ,  362.03867197,  512.        ,  724.07734394])"
      ]
     },
     "execution_count": 2,
     "metadata": {},
     "output_type": "execute_result"
    }
   ],
   "source": [
    "(2**(1/2))**n"
   ]
  },
  {
   "cell_type": "markdown",
   "metadata": {},
   "source": [
    "Alternatively, from the difference equation and starting with `a = [0, 0, 1, ...]`, we can calculate the next value of `a` as follows:\n",
    "```python\n",
    "a[n] = a[n - 1] + 2*a[n - 2] - 2*a[n - 3]\n",
    "```\n",
    "All we need to do is put this line of code inside a for loop that interates over $n$ from 3 to 20. You should find that you get the same sequence either way. For very large $n$ though one of the methods is affected by small numerical rounding errors. Why?"
   ]
  },
  {
   "cell_type": "markdown",
   "metadata": {},
   "source": [
    "## Solution"
   ]
  },
  {
   "cell_type": "markdown",
   "metadata": {},
   "source": [
    "First, we import the required modules, `numpy` and `matplotlib` and use the magic command for inline plotting."
   ]
  },
  {
   "cell_type": "code",
   "execution_count": 3,
   "metadata": {
    "collapsed": false
   },
   "outputs": [],
   "source": [
    "# Import numpy and matplotlib\n",
    "import numpy as np\n",
    "import matplotlib.pyplot as plt\n",
    "%matplotlib inline"
   ]
  },
  {
   "cell_type": "markdown",
   "metadata": {},
   "source": [
    "### Analytical solution\n",
    "\n",
    "The general solution can be found by using the trial solution $a_n = \\lambda^n$. Substituting this into the original linear difference equation we get:\n",
    "\n",
    "$$\n",
    "\\lambda = 1, \\quad \\lambda = \\pm \\sqrt{2}\n",
    "$$\n",
    "\n",
    "Inserting the initial condition:\n",
    "\n",
    "$$\n",
    "a_n = -1 + \\dfrac{\\sqrt{2} + 1}{2 \\sqrt{2}}\\big( \\sqrt{2} \\big)^n + \\dfrac{\\sqrt{2} - 1}{2 \\sqrt{2}} \\big(-\\sqrt{2} \\big)^n\n",
    "$$\n",
    "\n",
    "We now compute $a_n$ at a number of points:"
   ]
  },
  {
   "cell_type": "code",
   "execution_count": 4,
   "metadata": {
    "collapsed": false
   },
   "outputs": [],
   "source": [
    "# Generate an array of N integers\n",
    "N = np.arange(20)\n",
    "\n",
    "# Calculate a_n for each n\n",
    "sqrt2 = 2**(1/2) # to save typing on next line\n",
    "a_analytic = -1 + ((sqrt2 + 1)/(2*sqrt2))*sqrt2**n + ((sqrt2 - 1)/(2*sqrt2))*(-sqrt2)**n"
   ]
  },
  {
   "cell_type": "markdown",
   "metadata": {},
   "source": [
    "### Numerical solution\n",
    "\n",
    "We now compute the solution directly from the difference equation."
   ]
  },
  {
   "cell_type": "code",
   "execution_count": 5,
   "metadata": {
    "collapsed": false
   },
   "outputs": [],
   "source": [
    "# Create array to store solution\n",
    "a = np.empty(len(N))\n",
    "\n",
    "# Set starting values\n",
    "a[0], a[1], a[2] = 0, 0, 1  # Alternatively, a[:3] = [0, 0, 1]\n",
    "\n",
    "# Loop over n\n",
    "for n in range(3, len(a)):\n",
    "    a[n] = a[n - 1] + 2*a[n - 2] - 2*a[n - 3]"
   ]
  },
  {
   "cell_type": "markdown",
   "metadata": {},
   "source": [
    "### Comparing results\n",
    "\n",
    "The two results are plotted to compare."
   ]
  },
  {
   "cell_type": "code",
   "execution_count": 6,
   "metadata": {
    "collapsed": false
   },
   "outputs": [
    {
     "data": {
      "image/png": "[encoded data removed]",
      "text/plain": [
       "<matplotlib.figure.Figure at 0x7f70d75025c0>"
      ]
     },
     "metadata": {},
     "output_type": "display_data"
    }
   ],
   "source": [
    "# Plot these graphs\n",
    "plt.plot(N, a, label='Numerical result')\n",
    "plt.plot(N, a_analytic, label='Analytical result')\n",
    "\n",
    "# Add legend\n",
    "plt.legend(loc=2)\n",
    "\n",
    "# Label axes\n",
    "plt.xlabel('$n$')\n",
    "plt.ylabel('$a_n$');"
   ]
  },
  {
   "cell_type": "markdown",
   "metadata": {},
   "source": [
    "Printing the results to the screen:"
   ]
  },
  {
   "cell_type": "code",
   "execution_count": 7,
   "metadata": {
    "collapsed": false
   },
   "outputs": [
    {
     "name": "stdout",
     "output_type": "stream",
     "text": [
      "n = 0, Analytic = -0.000000, Numerical = 0.000000\n",
      "n = 1, Analytic = -0.000000, Numerical = 0.000000\n",
      "n = 2, Analytic = 1.000000, Numerical = 1.000000\n",
      "n = 3, Analytic = 1.000000, Numerical = 1.000000\n",
      "n = 4, Analytic = 3.000000, Numerical = 3.000000\n",
      "n = 5, Analytic = 3.000000, Numerical = 3.000000\n",
      "n = 6, Analytic = 7.000000, Numerical = 7.000000\n",
      "n = 7, Analytic = 7.000000, Numerical = 7.000000\n",
      "n = 8, Analytic = 15.000000, Numerical = 15.000000\n",
      "n = 9, Analytic = 15.000000, Numerical = 15.000000\n",
      "n = 10, Analytic = 31.000000, Numerical = 31.000000\n",
      "n = 11, Analytic = 31.000000, Numerical = 31.000000\n",
      "n = 12, Analytic = 63.000000, Numerical = 63.000000\n",
      "n = 13, Analytic = 63.000000, Numerical = 63.000000\n",
      "n = 14, Analytic = 127.000000, Numerical = 127.000000\n",
      "n = 15, Analytic = 127.000000, Numerical = 127.000000\n",
      "n = 16, Analytic = 255.000000, Numerical = 255.000000\n",
      "n = 17, Analytic = 255.000000, Numerical = 255.000000\n",
      "n = 18, Analytic = 511.000000, Numerical = 511.000000\n",
      "n = 19, Analytic = 511.000000, Numerical = 511.000000\n"
     ]
    }
   ],
   "source": [
    "# Print out the results\n",
    "for i in range(len(N)):\n",
    "    print(\"n = %d, Analytic = %f, Numerical = %f\" % (i, a_analytic[i], a[i]))"
   ]
  },
  {
   "cell_type": "markdown",
   "metadata": {},
   "source": [
    "This shows that the results are the same."
   ]
  }
 ],
 "metadata": {
  "kernelspec": {
   "display_name": "Python 3",
   "language": "python",
   "name": "python3"
  },
  "language_info": {
   "codemirror_mode": {
    "name": "ipython",
    "version": 3
   },
   "file_extension": ".py",
   "mimetype": "text/x-python",
   "name": "python",
   "nbconvert_exporter": "python",
   "pygments_lexer": "ipython3",
   "version": "3.5.2+"
  }
 },
 "nbformat": 4,
 "nbformat_minor": 0
}

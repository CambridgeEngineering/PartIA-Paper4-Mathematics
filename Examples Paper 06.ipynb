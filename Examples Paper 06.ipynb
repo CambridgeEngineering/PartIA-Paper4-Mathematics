{
 "cells": [
  {
   "cell_type": "markdown",
   "metadata": {},
   "source": [
    "# Question 7\n",
    "\n",
    "Using the matrix $\\boldsymbol{A}$ from Question 6, and again expressing a general vector $\\boldsymbol{x}$ in terms \n",
    "of the eigenvectors of $\\boldsymbol{A}$, what is $\\boldsymbol{A}^{n}\\boldsymbol{x}$? What happens to $\\boldsymbol{A}^{n}\\boldsymbol{x}$ as $n$ gets large? Using the result of\n",
    "Question 3, derive a similar result for $(\\boldsymbol{A}^{-1})^{n}\\boldsymbol{x}$.\n",
    "With\n",
    "\n",
    "\\begin{equation}\n",
    "\\boldsymbol{A} = \n",
    "\\begin{bmatrix}\n",
    "3 & -4 & 1 \\\\\n",
    "-4 & 8 & -4 \\\\\n",
    "1 & -4 & 3\n",
    "\\end{bmatrix}\n",
    "\\end{equation}\n",
    "\n",
    "and\n",
    "\n",
    "\\begin{equation}\n",
    "\\boldsymbol{x} = \n",
    "\\begin{bmatrix}\n",
    "1\\\\\n",
    "0 \\\\\n",
    "0\n",
    "\\end{bmatrix}\n",
    "\\end{equation}\n",
    "\n",
    "use Python/NumPy to calculate $\\boldsymbol{A}\\boldsymbol{x}$, $\\boldsymbol{A}^{2}\\boldsymbol{x}$,\n",
    "$\\boldsymbol{A}^{3}\\boldsymbol{x}$ and $\\boldsymbol{A}^{4}\\boldsymbol{x}$, and hence obtain an approximation\n",
    "for the eigenvalue of $\\boldsymbol{A}$ with the largest absolute value, and the corresponding eigenvector.\n",
    "Experiment with higher powers of $\\boldsymbol{A}$, and compare your result with the exact answer, which was calculated in Question 1(vi)."
   ]
  },
  {
   "cell_type": "markdown",
   "metadata": {},
   "source": [
    "## Solution"
   ]
  },
  {
   "cell_type": "markdown",
   "metadata": {},
   "source": [
    "A vector $\\boldsymbol{x}$ can be expressed as a linear combination of the eigenvectors $\\boldsymbol{u}_i$\n",
    "of a symmetric matrix $\\boldsymbol{A}$:\n",
    "\n",
    "$$\n",
    "\\boldsymbol{x} = \\alpha \\boldsymbol{u}_1 + \\beta \\boldsymbol{u}_2 + \\gamma \\boldsymbol{u}_3.\n",
    "$$\n",
    "\n",
    "Since the eigenvectors are orthogonal for a symmetric matrix, if we multiply $\\boldsymbol{x}$ by the matrix $\\boldsymbol{A}$ we have:\n",
    "\n",
    "$$\n",
    "\\boldsymbol{A} \\boldsymbol{x} = \\alpha \\lambda_1 \\boldsymbol{u}_1 + \\beta \\lambda_2 \\boldsymbol{u}_2 + \\gamma \\lambda_3 \\boldsymbol{u}_3,\n",
    "$$\n",
    "\n",
    "where $\\lambda_i$ are the eigenvalues of $\\boldsymbol{A}$. Repeating $n$ times:\n",
    "\n",
    "$$\n",
    "\\boldsymbol{A}^n \\boldsymbol{x} = \\alpha \\lambda_1^n \\boldsymbol{u}_1 + \\beta \\lambda_2^n \\boldsymbol{u}_2 + \\gamma \\lambda_3^n \\boldsymbol{u}_3.\n",
    "$$\n",
    "\n",
    "The term with the eigenvalue with the largest absolute magnitude will dominate as $n$ becomes large. We illustrate the process below."
   ]
  },
  {
   "cell_type": "markdown",
   "metadata": {},
   "source": [
    "We first import NumPy:"
   ]
  },
  {
   "cell_type": "code",
   "execution_count": 1,
   "metadata": {},
   "outputs": [],
   "source": [
    "import numpy as np"
   ]
  },
  {
   "cell_type": "markdown",
   "metadata": {},
   "source": [
    "We create  a NumPy matrix `A` and a starting vector `u`."
   ]
  },
  {
   "cell_type": "code",
   "execution_count": 2,
   "metadata": {},
   "outputs": [
    {
     "data": {
      "text/plain": [
       "array([[ 3., -4.,  1.],\n",
       "       [-4.,  8., -4.],\n",
       "       [ 1., -4.,  3.]])"
      ]
     },
     "execution_count": 2,
     "metadata": {},
     "output_type": "execute_result"
    }
   ],
   "source": [
    "# Create matrix A\n",
    "A = np.array([[3.0, -4.0, 1.0], [-4.0, 8.0, -4.0], [1.0, -4.0, 3.0]])\n",
    "A"
   ]
  },
  {
   "cell_type": "code",
   "execution_count": 3,
   "metadata": {},
   "outputs": [
    {
     "data": {
      "text/plain": [
       "array([ 1.,  0.,  0.])"
      ]
     },
     "execution_count": 3,
     "metadata": {},
     "output_type": "execute_result"
    }
   ],
   "source": [
    "# Create starting vector\n",
    "x = np.array([1.0, 0.0, 0.0])\n",
    "x"
   ]
  },
  {
   "cell_type": "markdown",
   "metadata": {},
   "source": [
    "We now multiply the starting vector by the matrix 3 and 4 times to get estimates of the eigenvector associated with the large eigenvalue:"
   ]
  },
  {
   "cell_type": "code",
   "execution_count": 4,
   "metadata": {},
   "outputs": [
    {
     "name": "stdout",
     "output_type": "stream",
     "text": [
      "Normalised A^4x: [ 0.40919294 -0.81649585  0.40730291]\n",
      "Normalised A^3x: [ 0.4139051  -0.81647033  0.40256523]\n"
     ]
    }
   ],
   "source": [
    "# Compute (A^4)x and (A^3)x, using @ for matrix multiplication (python 3.5 only)\n",
    "A3x = np.linalg.matrix_power(A, 3) @ x # same as np.linalg.matrix_power(A, 3).dot(x)\n",
    "A4x = A @ A3x \n",
    "\n",
    "# Print normalised approximate eigenvector\n",
    "print('Normalised A^4x:',A4x/np.linalg.norm(A4x))\n",
    "print('Normalised A^3x:',A3x/np.linalg.norm(A3x))"
   ]
  },
  {
   "cell_type": "markdown",
   "metadata": {},
   "source": [
    "If we have a good estimate for the eigenvector, we can estimate the eigenvalue by since from one multiplication of $\\boldsymbol{A}$ to the next the eigenvector should be scaled by $\\lambda$."
   ]
  },
  {
   "cell_type": "code",
   "execution_count": 5,
   "metadata": {},
   "outputs": [
    {
     "name": "stdout",
     "output_type": "stream",
     "text": [
      "Component-wise ratio A^4x/A^3x: [ 11.8630137   12.          12.14084507]\n"
     ]
    }
   ],
   "source": [
    "# Divide A^4x by A^3x component-wise to estimate eigenvalue\n",
    "print('Component-wise ratio A^4x/A^3x:',A4x/A3x)"
   ]
  },
  {
   "cell_type": "markdown",
   "metadata": {},
   "source": [
    "The approximated eigenvalues are close to the exact value, which is 12:"
   ]
  },
  {
   "cell_type": "code",
   "execution_count": 6,
   "metadata": {},
   "outputs": [
    {
     "name": "stdout",
     "output_type": "stream",
     "text": [
      "Eigenvalues of A: [  1.20000000e+01   2.00000000e+00  -8.22535709e-17]\n"
     ]
    }
   ],
   "source": [
    "print(\"Eigenvalues of A: {}\".format(np.linalg.eigvals(A)))"
   ]
  }
 ],
 "metadata": {
  "anaconda-cloud": {},
  "kernelspec": {
   "display_name": "Python 3",
   "language": "python",
   "name": "python3"
  },
  "language_info": {
   "codemirror_mode": {
    "name": "ipython",
    "version": 3
   },
   "file_extension": ".py",
   "mimetype": "text/x-python",
   "name": "python",
   "nbconvert_exporter": "python",
   "pygments_lexer": "ipython3",
   "version": "3.6.3"
  }
 },
 "nbformat": 4,
 "nbformat_minor": 1
}
